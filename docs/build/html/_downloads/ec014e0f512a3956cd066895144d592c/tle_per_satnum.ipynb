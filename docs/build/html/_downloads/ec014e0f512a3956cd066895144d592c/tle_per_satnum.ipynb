{
 "cells": [
  {
   "cell_type": "markdown",
   "metadata": {},
   "source": [
    "\n# TLE Production Per Satnum\n\nPlotting TLE production as a function of satnum\n"
   ]
  },
  {
   "cell_type": "code",
   "execution_count": null,
   "metadata": {
    "collapsed": false
   },
   "outputs": [],
   "source": [
    "import tl3 as tm\n",
    "\n",
    "import matplotlib.pyplot as plt\n",
    "import numpy as np\n",
    "import colorcet as cc\n",
    "\n",
    "df = tm.get_df()\n",
    "print(df)\n",
    "\n",
    "nodes, inv, counts = np.unique(\n",
    "    df['NORAD_CAT_ID'].to_numpy(), return_inverse=True, return_counts=True\n",
    ")\n",
    "del df\n",
    "\n",
    "max_counts = counts[np.argsort(-counts)]\n",
    "max_nodes = nodes[np.argsort(-counts)]\n",
    "\n",
    "n_snoopi_tles = max_counts[max_nodes == 59563]\n",
    "print(max_counts)\n",
    "print(max_nodes)\n",
    "print(n_snoopi_tles)\n",
    "\n",
    "plt.scatter(np.arange(max_counts.size), max_counts, s=1)\n",
    "plt.show()\n",
    "\n",
    "plt.hist2d(nodes, counts, bins=250, cmap=cc.cm['fire'].copy())\n",
    "plt.tight_layout()\n",
    "plt.grid()\n",
    "plt.show()"
   ]
  }
 ],
 "metadata": {
  "kernelspec": {
   "display_name": "Python 3",
   "language": "python",
   "name": "python3"
  },
  "language_info": {
   "codemirror_mode": {
    "name": "ipython",
    "version": 3
   },
   "file_extension": ".py",
   "mimetype": "text/x-python",
   "name": "python",
   "nbconvert_exporter": "python",
   "pygments_lexer": "ipython3",
   "version": "3.11.9"
  }
 },
 "nbformat": 4,
 "nbformat_minor": 0
}