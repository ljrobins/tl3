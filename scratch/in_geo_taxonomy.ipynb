{
 "cells": [
  {
   "cell_type": "code",
   "execution_count": 1,
   "metadata": {},
   "outputs": [],
   "source": [
    "import duckdb\n",
    "import polars as pl\n",
    "import numpy as np\n",
    "import matplotlib.pyplot as plt\n",
    "import datetime\n",
    "from scipy.signal import savgol_filter\n",
    "\n",
    "duckdb.sql(\"\"\"\n",
    "CREATE TABLE geos AS \n",
    "SELECT * FROM \n",
    "(\n",
    "SELECT NORAD_CAT_ID, count(*) as count\n",
    "FROM 'database/twoline.parquet'\n",
    "WHERE abs(N - 1.0) < 0.01\n",
    "AND ECC < 0.01\n",
    "AND INC < 0.1\n",
    "GROUP BY NORAD_CAT_ID\n",
    "ORDER BY NORAD_CAT_ID\n",
    ")\n",
    "WHERE count > 100\n",
    "WHERE \n",
    "\"\"\"\n",
    ")\n",
    "all_geo_tles_by_norad = duckdb.sql(\"\"\"\n",
    "SELECT EPOCH, all_geos.NORAD_CAT_ID, INC FROM 'database/twoline.parquet' AS all_geos\n",
    "JOIN geos ON (all_geos.NORAD_CAT_ID = geos.NORAD_CAT_ID)\n",
    "ORDER BY all_geos.NORAD_CAT_ID, EPOCH\n",
    "\"\"\").pl().partition_by('NORAD_CAT_ID')"
   ]
  },
  {
   "cell_type": "code",
   "execution_count": 100,
   "metadata": {},
   "outputs": [
    {
     "data": {
      "text/html": [
       "<div><style>\n",
       ".dataframe > thead > tr,\n",
       ".dataframe > tbody > tr {\n",
       "  text-align: right;\n",
       "  white-space: pre-wrap;\n",
       "}\n",
       "</style>\n",
       "<small>shape: (464, 3)</small><table border=\"1\" class=\"dataframe\"><thead><tr><th>NORAD_CAT_ID</th><th>count</th><th>deactivate_times</th></tr><tr><td>u32</td><td>i64</td><td>datetime[μs]</td></tr></thead><tbody><tr><td>3029</td><td>108</td><td>1969-10-13 00:00:00</td></tr><tr><td>6278</td><td>276</td><td>1980-09-20 00:00:00</td></tr><tr><td>5709</td><td>131</td><td>1981-02-07 00:00:00</td></tr><tr><td>10953</td><td>297</td><td>1981-04-08 00:00:00</td></tr><tr><td>6796</td><td>112</td><td>1982-05-28 00:00:00</td></tr><tr><td>&hellip;</td><td>&hellip;</td><td>&hellip;</td></tr><tr><td>31307</td><td>7785</td><td>2023-05-08 00:00:00</td></tr><tr><td>33459</td><td>7310</td><td>2023-05-18 00:00:00</td></tr><tr><td>29273</td><td>8252</td><td>2023-05-23 00:00:00</td></tr><tr><td>33275</td><td>7643</td><td>2023-05-28 00:00:00</td></tr><tr><td>33154</td><td>7825</td><td>2023-09-10 00:00:00</td></tr></tbody></table></div>"
      ],
      "text/plain": [
       "shape: (464, 3)\n",
       "┌──────────────┬───────┬─────────────────────┐\n",
       "│ NORAD_CAT_ID ┆ count ┆ deactivate_times    │\n",
       "│ ---          ┆ ---   ┆ ---                 │\n",
       "│ u32          ┆ i64   ┆ datetime[μs]        │\n",
       "╞══════════════╪═══════╪═════════════════════╡\n",
       "│ 3029         ┆ 108   ┆ 1969-10-13 00:00:00 │\n",
       "│ 6278         ┆ 276   ┆ 1980-09-20 00:00:00 │\n",
       "│ 5709         ┆ 131   ┆ 1981-02-07 00:00:00 │\n",
       "│ 10953        ┆ 297   ┆ 1981-04-08 00:00:00 │\n",
       "│ 6796         ┆ 112   ┆ 1982-05-28 00:00:00 │\n",
       "│ …            ┆ …     ┆ …                   │\n",
       "│ 31307        ┆ 7785  ┆ 2023-05-08 00:00:00 │\n",
       "│ 33459        ┆ 7310  ┆ 2023-05-18 00:00:00 │\n",
       "│ 29273        ┆ 8252  ┆ 2023-05-23 00:00:00 │\n",
       "│ 33275        ┆ 7643  ┆ 2023-05-28 00:00:00 │\n",
       "│ 33154        ┆ 7825  ┆ 2023-09-10 00:00:00 │\n",
       "└──────────────┴───────┴─────────────────────┘"
      ]
     },
     "execution_count": 100,
     "metadata": {},
     "output_type": "execute_result"
    }
   ],
   "source": [
    "ftimes = []\n",
    "\n",
    "for i,x in enumerate(all_geo_tles_by_norad):\n",
    "    xf = (x\n",
    "    .select('EPOCH', 'INC')\n",
    "    .with_columns(\n",
    "        pl.col('EPOCH').dt.round(f'5d').alias('EPOCH'),\n",
    "        )\n",
    "    .group_by('EPOCH')\n",
    "    .agg(pl.col('INC').median())\n",
    "    .sort('EPOCH')\n",
    "    )\n",
    "\n",
    "    first_considered_date = xf.filter(pl.col(\"INC\") < 0.25)['EPOCH'][0]\n",
    "\n",
    "    # xf = xf.with_columns(\n",
    "    #     rolling_inc=pl.col('INC').rolling_median(window_size=2, center=True)\n",
    "    # )\n",
    "    xf = xf.with_columns(\n",
    "        local_min=pl.col('INC').peak_min(),\n",
    "    ).slice(1,xf.height-1)\n",
    "\n",
    "    xf = (\n",
    "        xf\n",
    "        .with_columns(\n",
    "        pl.when(pl.col('local_min'))\n",
    "        .then(pl.col('EPOCH'))\n",
    "        .otherwise(None)\n",
    "        .alias('LAST_LOCAL_MIN_EPOCH')\n",
    "        )\n",
    "        .fill_null(strategy='forward')\n",
    "        .with_columns(\n",
    "            pl.col('LAST_LOCAL_MIN_EPOCH').diff(n=1).alias('TIME_SINCE_PREV_MIN')\n",
    "        )\n",
    "        .drop_nulls()\n",
    "        .filter(\n",
    "            pl.col('TIME_SINCE_PREV_MIN') > pl.duration(days=0),\n",
    "            pl.col('TIME_SINCE_PREV_MIN') < pl.duration(days=720),\n",
    "            pl.col('INC') < 0.25,\n",
    "        )\n",
    "    )\n",
    "\n",
    "    \n",
    "    if xf.height:\n",
    "        candidate_ftime = xf.tail(1)['EPOCH'].to_list()[0]\n",
    "\n",
    "        xf_last_year = x.filter(\n",
    "            pl.col('EPOCH') > candidate_ftime - pl.duration(days=365),\n",
    "            pl.col('EPOCH') > first_considered_date)\n",
    "        inc_most_recent = xf_last_year['INC'][-1]\n",
    "        inc_one_year_before = xf_last_year['INC'][0]\n",
    "\n",
    "        if inc_most_recent > 1.0 and inc_one_year_before < 1.0:\n",
    "            ftimes.append(candidate_ftime)\n",
    "        else:\n",
    "            ftimes.append(None)\n",
    "    \n",
    "        # if x['NORAD_CAT_ID'][0] == 6796:\n",
    "        #     print(xf)\n",
    "        #     print(candidate_ftime)\n",
    "        #     print(inc_most_recent, inc_one_year_before)\n",
    "        #     print(ftimes)\n",
    "        #     endd\n",
    "    else:\n",
    "        ftimes.append(None)\n",
    "    \n",
    "\n",
    "res = duckdb.sql(\"SELECT * FROM geos\").pl().with_columns(pl.Series(name='deactivate_times', values=ftimes))\n",
    "res_sorted = res.sort('deactivate_times').drop_nulls()\n",
    "res_sorted"
   ]
  },
  {
   "cell_type": "code",
   "execution_count": 128,
   "metadata": {},
   "outputs": [
    {
     "name": "stdout",
     "output_type": "stream",
     "text": [
      "464\n",
      "42763 decayed on 2021-02-17 00:00:00\n"
     ]
    },
    {
     "data": {
      "image/png": "[encoded data removed]",
      "text/plain": [
       "<Figure size 600x300 with 1 Axes>"
      ]
     },
     "metadata": {},
     "output_type": "display_data"
    }
   ],
   "source": [
    "decayed_dfs = [x.join(res_sorted, on='NORAD_CAT_ID') for x in all_geo_tles_by_norad if x['NORAD_CAT_ID'][0] in res_sorted['NORAD_CAT_ID'].to_list()]\n",
    "i = -3\n",
    "x = decayed_dfs[i]\n",
    "ftime = x['deactivate_times'][0]\n",
    "\n",
    "print(len(decayed_dfs))\n",
    "print(f\"{x['NORAD_CAT_ID'][0]} decayed on {x['deactivate_times'][0]}\")\n",
    "inc = x['INC'].to_numpy()\n",
    "inc = x['INC'].to_numpy()\n",
    "epoch = np.array(x['EPOCH'].to_list())\n",
    "\n",
    "plt.figure(figsize=(6,3))\n",
    "plt.scatter(epoch, inc, label=\"Inclination\", s=1)\n",
    "plt.vlines(ftime, 1e-3, plt.ylim()[1], color='lime', label='Decay epoch')\n",
    "plt.xlabel(\"Date\")\n",
    "plt.ylabel(\"Inclination [deg]\")\n",
    "plt.grid()\n",
    "plt.title(f\"NORAD ID: {x['NORAD_CAT_ID'][0]}\")\n",
    "if ftime is not None:\n",
    "    plt.xlim(ftime-datetime.timedelta(days=720), ftime+datetime.timedelta(days=720))\n",
    "    plt.yscale('log')"
   ]
  },
  {
   "cell_type": "code",
   "execution_count": null,
   "metadata": {},
   "outputs": [],
   "source": []
  }
 ],
 "metadata": {
  "kernelspec": {
   "display_name": "tle-serv",
   "language": "python",
   "name": "python3"
  },
  "language_info": {
   "codemirror_mode": {
    "name": "ipython",
    "version": 3
   },
   "file_extension": ".py",
   "mimetype": "text/x-python",
   "name": "python",
   "nbconvert_exporter": "python",
   "pygments_lexer": "ipython3",
   "version": "3.11.9"
  }
 },
 "nbformat": 4,
 "nbformat_minor": 2
}
