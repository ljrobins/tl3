{
  "cells": [
    {
      "cell_type": "markdown",
      "metadata": {},
      "source": [
        "\n# TLE Production Per Day\n\nPlotting the number of TLEs produced every day since 1958\n"
      ]
    },
    {
      "cell_type": "code",
      "execution_count": null,
      "metadata": {
        "collapsed": false
      },
      "outputs": [],
      "source": [
        "import twomillionlines as tm\n\nimport matplotlib.pyplot as plt\nimport time\n\nt1 = time.time()\ndf = tm.get_df()\nprint(f\"read time: {time.time()-t1:.2f} seconds\")\n\nx = df['EPOCH_DAY_OF_YEAR']/365 + df['EPOCH_YEAR']\ndel df\nrange_days = int((x.max() - x.min()) * 365)\nplt.hist(x, bins=range_days)\nplt.xlabel(\"Year\")\nplt.ylabel(\"TLEs Per Day\")\nplt.show()"
      ]
    }
  ],
  "metadata": {
    "kernelspec": {
      "display_name": "Python 3",
      "language": "python",
      "name": "python3"
    },
    "language_info": {
      "codemirror_mode": {
        "name": "ipython",
        "version": 3
      },
      "file_extension": ".py",
      "mimetype": "text/x-python",
      "name": "python",
      "nbconvert_exporter": "python",
      "pygments_lexer": "ipython3",
      "version": "3.11.9"
    }
  },
  "nbformat": 4,
  "nbformat_minor": 0
}