{
  "cells": [
    {
      "cell_type": "markdown",
      "metadata": {},
      "source": [
        "\n# TLE Production Per Satnum\n\nPlotting TLE production as a function of satnum\n"
      ]
    },
    {
      "cell_type": "code",
      "execution_count": null,
      "metadata": {
        "collapsed": false
      },
      "outputs": [],
      "source": [
        "import twomillionlines as tm\n\nimport matplotlib.pyplot as plt\nimport numpy as np\nimport colorcet as cc\nimport matplotlib.pyplot as plt\n\ndf = tm.get_df()\nprint(df)\n\nnodes, inv, counts = np.unique(df['NORAD_CAT_ID'].to_numpy(), return_inverse=True, return_counts=True)\ndel df\n\nmax_counts = counts[np.argsort(-counts)]\nmax_nodes = nodes[np.argsort(-counts)]\n\nn_snoopi_tles = max_counts[max_nodes==59563]\nprint(max_counts)\nprint(max_nodes)\nprint(n_snoopi_tles)\n\nplt.scatter(np.arange(max_counts.size), max_counts, s=1)\nplt.show()\n\nplt.hist2d(nodes, counts, bins=250, cmap=cc.cm[\"fire\"].copy())\nplt.tight_layout()\nplt.show()"
      ]
    }
  ],
  "metadata": {
    "kernelspec": {
      "display_name": "Python 3",
      "language": "python",
      "name": "python3"
    },
    "language_info": {
      "codemirror_mode": {
        "name": "ipython",
        "version": 3
      },
      "file_extension": ".py",
      "mimetype": "text/x-python",
      "name": "python",
      "nbconvert_exporter": "python",
      "pygments_lexer": "ipython3",
      "version": "3.11.9"
    }
  },
  "nbformat": 4,
  "nbformat_minor": 0
}