{
  "cells": [
    {
      "cell_type": "markdown",
      "metadata": {},
      "source": [
        "\n# TLE Production Per Hour of the Day\n\nDaily TLE production in UTC\n"
      ]
    },
    {
      "cell_type": "code",
      "execution_count": null,
      "metadata": {
        "collapsed": false
      },
      "outputs": [],
      "source": [
        "import tl3\nimport duckdb\n\nimport matplotlib.pyplot as plt\nimport polars as pl\n\ndf = duckdb.sql(f\"\"\"\n    SELECT EPOCH FROM {repr(tl3.DB_PATH)}\n\"\"\").pl()\n\nhour_of_day = df.select(\n    pl.col('EPOCH').dt.hour()\n    + pl.col('EPOCH').dt.minute() / 60\n    + pl.col('EPOCH').dt.second() / 3600\n)\n\nplt.hist(hour_of_day, bins=500)\nplt.xlabel('Hour of the day')\nplt.ylabel('TLEs Produced')\nplt.tight_layout()\nplt.grid()\nplt.show()"
      ]
    }
  ],
  "metadata": {
    "kernelspec": {
      "display_name": "Python 3",
      "language": "python",
      "name": "python3"
    },
    "language_info": {
      "codemirror_mode": {
        "name": "ipython",
        "version": 3
      },
      "file_extension": ".py",
      "mimetype": "text/x-python",
      "name": "python",
      "nbconvert_exporter": "python",
      "pygments_lexer": "ipython3",
      "version": "3.11.9"
    }
  },
  "nbformat": 4,
  "nbformat_minor": 0
}