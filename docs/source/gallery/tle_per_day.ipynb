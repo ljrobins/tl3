{
  "cells": [
    {
      "cell_type": "markdown",
      "metadata": {},
      "source": [
        "\n# TLE Production Per Day\n\nPlotting the number of TLEs produced every day since 1958\n"
      ]
    },
    {
      "cell_type": "code",
      "execution_count": null,
      "metadata": {
        "collapsed": false
      },
      "outputs": [],
      "source": [
        "import tl3\n\nimport matplotlib.pyplot as plt\nimport duckdb\n\nx = duckdb.sql(f\"\"\"\n    SELECT EPOCH FROM {repr(tl3.DB_PATH)}\n\"\"\").pl()['EPOCH']\n\nrange_days = int((x.max() - x.min()).total_seconds() / 86400 / 2)\nplt.hist(x, bins=range_days)\nplt.xlabel('Year')\nplt.ylabel('TLEs Per Day')\nplt.grid()\nplt.tight_layout()\nplt.show()"
      ]
    }
  ],
  "metadata": {
    "kernelspec": {
      "display_name": "Python 3",
      "language": "python",
      "name": "python3"
    },
    "language_info": {
      "codemirror_mode": {
        "name": "ipython",
        "version": 3
      },
      "file_extension": ".py",
      "mimetype": "text/x-python",
      "name": "python",
      "nbconvert_exporter": "python",
      "pygments_lexer": "ipython3",
      "version": "3.11.9"
    }
  },
  "nbformat": 4,
  "nbformat_minor": 0
}