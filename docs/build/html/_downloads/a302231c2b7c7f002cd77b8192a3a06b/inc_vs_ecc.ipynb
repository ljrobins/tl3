{
  "cells": [
    {
      "cell_type": "markdown",
      "metadata": {},
      "source": [
        "\n# Inclination vs Eccentricity\n"
      ]
    },
    {
      "cell_type": "code",
      "execution_count": null,
      "metadata": {
        "collapsed": false
      },
      "outputs": [],
      "source": [
        "import colorcet as cc\nimport matplotlib.colors as colors\nimport matplotlib.pyplot as plt\nfrom fast_histogram import histogram2d\nimport matplotlib.pyplot as plt\nimport numpy as np\nimport twomillionlines as tm\n\ndf = tm.get_df()\n\nx = df['INC'].to_numpy()\ny = df['ECC'].to_numpy()\n\ncmap = cc.cm[\"fire\"].copy()\ncmap.set_bad(cmap.get_under())  # set the color for 0\nbounds = [[x.min(), x.max()], [y.min(), y.max()]]\nextent = [x.min(), x.max(), y.min(), y.max()]\nprint(bounds)\nh = np.flipud(histogram2d(x, y, range=bounds, bins=365).T)\nplt.imshow(h, norm=colors.LogNorm(vmin=1, vmax=h.max()), cmap=cmap, extent=extent)\nplt.gca().set_aspect('auto')\nplt.xlabel(\"Inclination [deg]\")\nplt.ylabel(\"Eccentricity\")\nplt.colorbar()\nplt.show()"
      ]
    }
  ],
  "metadata": {
    "kernelspec": {
      "display_name": "Python 3",
      "language": "python",
      "name": "python3"
    },
    "language_info": {
      "codemirror_mode": {
        "name": "ipython",
        "version": 3
      },
      "file_extension": ".py",
      "mimetype": "text/x-python",
      "name": "python",
      "nbconvert_exporter": "python",
      "pygments_lexer": "ipython3",
      "version": "3.11.9"
    }
  },
  "nbformat": 4,
  "nbformat_minor": 0
}