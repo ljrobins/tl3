{
  "cells": [
    {
      "cell_type": "markdown",
      "metadata": {},
      "source": [
        "\n# TLE Production Per Hour of the Day\n\nDaily TLE production in UTC\n"
      ]
    },
    {
      "cell_type": "code",
      "execution_count": null,
      "metadata": {
        "collapsed": false
      },
      "outputs": [],
      "source": [
        "import twomillionlines as tm\n\nimport matplotlib.pyplot as plt\nimport numpy as np\n\ndf = tm.get_df()\nprint(df)\n\ndoy = df['EPOCH_DAY_OF_YEAR'].to_numpy()\nhour_of_day = 24 * (doy - np.floor(doy))\n\nplt.hist(hour_of_day, bins=500)\nplt.xlabel(\"Hour of the day\")\nplt.ylabel(\"TLEs Produced\")\nplt.tight_layout()\nplt.show()"
      ]
    }
  ],
  "metadata": {
    "kernelspec": {
      "display_name": "Python 3",
      "language": "python",
      "name": "python3"
    },
    "language_info": {
      "codemirror_mode": {
        "name": "ipython",
        "version": 3
      },
      "file_extension": ".py",
      "mimetype": "text/x-python",
      "name": "python",
      "nbconvert_exporter": "python",
      "pygments_lexer": "ipython3",
      "version": "3.11.9"
    }
  },
  "nbformat": 4,
  "nbformat_minor": 0
}